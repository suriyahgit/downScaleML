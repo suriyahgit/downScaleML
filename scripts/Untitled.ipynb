{
 "cells": [
  {
   "cell_type": "code",
   "execution_count": 1,
   "id": "99df78ba-bcb8-45c0-8ffd-f51c47658751",
   "metadata": {},
   "outputs": [],
   "source": [
    "import xarray as xr"
   ]
  },
  {
   "cell_type": "code",
   "execution_count": 4,
   "id": "001826f8-f961-4819-8c3f-34dea5f63f2a",
   "metadata": {},
   "outputs": [],
   "source": [
    "ds = xr.open_dataset(\"/mnt/CEPH_PROJECTS/InterTwin/Climate_Downscaling/data/CERRA/2m_temperature/downloads/2m_temperature/CERRA_2m_temperature_1991.nc\")"
   ]
  },
  {
   "cell_type": "code",
   "execution_count": null,
   "id": "24ca363e-e02f-423a-8a48-f89f861779ed",
   "metadata": {},
   "outputs": [],
   "source": []
  }
 ],
 "metadata": {
  "kernelspec": {
   "display_name": "climax",
   "language": "python",
   "name": "climax"
  },
  "language_info": {
   "codemirror_mode": {
    "name": "ipython",
    "version": 3
   },
   "file_extension": ".py",
   "mimetype": "text/x-python",
   "name": "python",
   "nbconvert_exporter": "python",
   "pygments_lexer": "ipython3",
   "version": "3.11.4"
  }
 },
 "nbformat": 4,
 "nbformat_minor": 5
}
