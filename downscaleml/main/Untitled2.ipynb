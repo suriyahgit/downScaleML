{
 "cells": [
  {
   "cell_type": "code",
   "execution_count": 2,
   "id": "6364cef8-28a9-497b-af10-0fbbafa119b1",
   "metadata": {},
   "outputs": [
    {
     "name": "stdout",
     "output_type": "stream",
     "text": [
      "/tmp/ipykernel_512385/1748736357.py:6: size=7812 KiB, count=1, average=7812 KiB\n",
      "/home/sdhinakaran/micromamba/envs/check/lib/python3.11/site-packages/IPython/core/interactiveshell.py:3488: size=304 B, count=1, average=304 B\n",
      "/home/sdhinakaran/micromamba/envs/check/lib/python3.11/codeop.py:118: size=293 B, count=2, average=146 B\n",
      "/home/sdhinakaran/micromamba/envs/check/lib/python3.11/site-packages/IPython/core/interactiveshell.py:3548: size=152 B, count=1, average=152 B\n",
      "/home/sdhinakaran/micromamba/envs/check/lib/python3.11/site-packages/IPython/core/interactiveshell.py:3537: size=64 B, count=1, average=64 B\n",
      "/home/sdhinakaran/micromamba/envs/check/lib/python3.11/site-packages/IPython/core/interactiveshell.py:3478: size=56 B, count=2, average=28 B\n",
      "/home/sdhinakaran/micromamba/envs/check/lib/python3.11/site-packages/IPython/core/compilerop.py:192: size=32 B, count=1, average=32 B\n"
     ]
    }
   ],
   "source": [
    "import tracemalloc \n",
    "\n",
    "tracemalloc.start() \n",
    "\n",
    "# Allocate some memory \n",
    "a = [1] * (10 ** 6) \n",
    "\n",
    "snapshot = tracemalloc.take_snapshot() \n",
    "top_stats = snapshot.statistics('lineno') \n",
    "\n",
    "for stat in top_stats[:10]: \n",
    "    print(stat)\n"
   ]
  },
  {
   "cell_type": "code",
   "execution_count": null,
   "id": "eac0c0ac-4a0c-4a52-856d-d45bf7b057ed",
   "metadata": {},
   "outputs": [],
   "source": []
  }
 ],
 "metadata": {
  "kernelspec": {
   "display_name": "CHECK",
   "language": "python",
   "name": "check"
  },
  "language_info": {
   "codemirror_mode": {
    "name": "ipython",
    "version": 3
   },
   "file_extension": ".py",
   "mimetype": "text/x-python",
   "name": "python",
   "nbconvert_exporter": "python",
   "pygments_lexer": "ipython3",
   "version": "3.11.5"
  }
 },
 "nbformat": 4,
 "nbformat_minor": 5
}
